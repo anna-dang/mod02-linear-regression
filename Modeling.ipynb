{
 "cells": [
  {
   "cell_type": "markdown",
   "metadata": {},
   "source": [
    "## Modeling"
   ]
  },
  {
   "cell_type": "markdown",
   "metadata": {},
   "source": [
    "Data meets OLS Assumptions.\n",
    "\n",
    "Correctly fit at least 1 model.\n",
    "\n",
    "Your model should not include any predictors with p-values greater than .05\n",
    "\n",
    "Check Model Validity:\n",
    "- Interpret beta coefficients\n",
    "- Interpret residuals (are you over/under estimating)\n",
    "- cross validate with Kfolds\n",
    "- check predictions\n",
    "- does this model satisfy the problem?\n"
   ]
  },
  {
   "cell_type": "markdown",
   "metadata": {},
   "source": [
    "##### Construct model to solve problem:\n",
    "Model aims to answer price prediction for home features in specific areas (determined by above)\n",
    "\n",
    "Define the target:\n",
    "- Target = home sale price. \n",
    "\n",
    "Define the predictors:\n",
    "- What are at least three features that exibit a linear relationship with sale price?\n",
    "\n",
    "Solve problem:\n",
    "- Build model to predict sale price based on input of selected features.\n"
   ]
  },
  {
   "cell_type": "code",
   "execution_count": 2,
   "metadata": {},
   "outputs": [],
   "source": [
    "import pandas as pd"
   ]
  },
  {
   "cell_type": "code",
   "execution_count": 8,
   "metadata": {},
   "outputs": [
    {
     "name": "stdout",
     "output_type": "stream",
     "text": [
      "<class 'pandas.core.frame.DataFrame'>\n",
      "RangeIndex: 20609 entries, 0 to 20608\n",
      "Data columns (total 25 columns):\n",
      " #   Column              Non-Null Count  Dtype  \n",
      "---  ------              --------------  -----  \n",
      " 0   id                  20609 non-null  int64  \n",
      " 1   date                20609 non-null  object \n",
      " 2   price               20609 non-null  float64\n",
      " 3   bedrooms            20609 non-null  int64  \n",
      " 4   bathrooms           20609 non-null  float64\n",
      " 5   sqft_living         20609 non-null  int64  \n",
      " 6   sqft_lot            20609 non-null  int64  \n",
      " 7   floors              20609 non-null  float64\n",
      " 8   view                20609 non-null  float64\n",
      " 9   condition           20609 non-null  int64  \n",
      " 10  grade               20609 non-null  int64  \n",
      " 11  yr_built            20609 non-null  int64  \n",
      " 12  yr_renovated        20609 non-null  float64\n",
      " 13  zipcode             20609 non-null  int64  \n",
      " 14  lat                 20609 non-null  float64\n",
      " 15  long                20609 non-null  float64\n",
      " 16  has_basement        20609 non-null  int64  \n",
      " 17  reno?               20609 non-null  int64  \n",
      " 18  age                 20609 non-null  int64  \n",
      " 19  zipcode_mean_price  20609 non-null  float64\n",
      " 20  pop_den_by_zip      20609 non-null  int64  \n",
      " 21  age_decade          20609 non-null  int64  \n",
      " 22  reno_age            20609 non-null  float64\n",
      " 23  zipcode_mean_lot    20609 non-null  float64\n",
      " 24  zipcode_mean_liv    20609 non-null  float64\n",
      "dtypes: float64(11), int64(13), object(1)\n",
      "memory usage: 3.9+ MB\n"
     ]
    }
   ],
   "source": [
    "df = pd.read_csv(\"./data/kc_house_data_cleaned.csv\").drop('Unnamed: 0', axis=1)\n",
    "df.info()"
   ]
  },
  {
   "cell_type": "markdown",
   "metadata": {},
   "source": [
    "## Preprocessing Part 2:  Transformations for Linear Model\n",
    "\n",
    "### Encode Categoral Features"
   ]
  },
  {
   "cell_type": "code",
   "execution_count": null,
   "metadata": {},
   "outputs": [],
   "source": [
    "# encode categorical columns, if dummies drop one\n"
   ]
  },
  {
   "cell_type": "code",
   "execution_count": null,
   "metadata": {},
   "outputs": [],
   "source": [
    "# TODO drop precursors to engineered columns"
   ]
  },
  {
   "cell_type": "markdown",
   "metadata": {},
   "source": []
  },
  {
   "cell_type": "code",
   "execution_count": null,
   "metadata": {},
   "outputs": [],
   "source": []
  },
  {
   "cell_type": "markdown",
   "metadata": {},
   "source": [
    "### Check for Multicollinearity"
   ]
  },
  {
   "cell_type": "code",
   "execution_count": null,
   "metadata": {},
   "outputs": [],
   "source": [
    "# VIF each column against all others, drop very high VIF, recheck\n"
   ]
  },
  {
   "cell_type": "code",
   "execution_count": null,
   "metadata": {},
   "outputs": [],
   "source": [
    "# check r2 score with OLS model"
   ]
  },
  {
   "cell_type": "code",
   "execution_count": null,
   "metadata": {},
   "outputs": [],
   "source": []
  },
  {
   "cell_type": "markdown",
   "metadata": {},
   "source": [
    "### Normalize Numerical Data"
   ]
  },
  {
   "cell_type": "code",
   "execution_count": null,
   "metadata": {},
   "outputs": [],
   "source": [
    "# check cat_col is correct\n",
    "# def norm_col(series):\n",
    "#     return (series - series.mean()) / series.std()\n",
    "# for column in cat_col:\n",
    "#     df[column] = norm_col(df[column])\n",
    "# df.describe()"
   ]
  },
  {
   "cell_type": "code",
   "execution_count": null,
   "metadata": {},
   "outputs": [],
   "source": []
  },
  {
   "cell_type": "markdown",
   "metadata": {},
   "source": [
    "### Export transformed data\n",
    "\n",
    "For use in linear regression modeling\n",
    "\n",
    "(describe transformation logic/new features)"
   ]
  },
  {
   "cell_type": "code",
   "execution_count": null,
   "metadata": {},
   "outputs": [],
   "source": [
    "#df.to_csv(\"./data/kc_house_data_transformed.csv\")"
   ]
  },
  {
   "cell_type": "markdown",
   "metadata": {},
   "source": [
    "## Build Model"
   ]
  },
  {
   "cell_type": "code",
   "execution_count": null,
   "metadata": {},
   "outputs": [],
   "source": []
  }
 ],
 "metadata": {
  "kernelspec": {
   "display_name": "learn-env",
   "language": "python",
   "name": "learn-env"
  },
  "language_info": {
   "codemirror_mode": {
    "name": "ipython",
    "version": 3
   },
   "file_extension": ".py",
   "mimetype": "text/x-python",
   "name": "python",
   "nbconvert_exporter": "python",
   "pygments_lexer": "ipython3",
   "version": "3.8.3"
  }
 },
 "nbformat": 4,
 "nbformat_minor": 4
}
